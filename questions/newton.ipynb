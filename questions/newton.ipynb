{
 "cells": [
  {
   "cell_type": "code",
   "execution_count": null,
   "metadata": {},
   "outputs": [],
   "source": [
    "def f(x):\n",
    "    return x**3 - 0.165*x**2 + 3.993e-4\n",
    "\n",
    "def f_prime(x):\n",
    "    return 3*x**2 - 0.33*x\n",
    "\n",
    "def newtons_method(x0, tol=1e-6, max_iterations=3):\n",
    "    x_n = x0\n",
    "    for i in range(max_iterations):\n",
    "        f_x_n = f(x_n)\n",
    "        f_prime_x_n = f_prime(x_n)\n",
    "        \n",
    "        if f_prime_x_n == 0:\n",
    "            print(\"Zero derivative. No solution found.\")\n",
    "            return None\n",
    "        \n",
    "        x_n1 = x_n - f_x_n / f_prime_x_n\n",
    "        abs_error = abs((x_n1 - x_n) / x_n1) * 100\n",
    "        \n",
    "        print(f\"Iteration {i+1}:\")\n",
    "        print(f\"x_{i+1} = {x_n1}, f(x_{i+1}) = {f(x_n1)}, Absolute Error = {abs_error:.6f}%\")\n",
    "        \n",
    "        if abs(f_x_n) < tol:\n",
    "            print(f\"Converged to {x_n1} with tolerance {tol}\")\n",
    "            return x_n1\n",
    "        \n",
    "        x_n = x_n1\n",
    "    \n",
    "    print(f\"Method did not converge after {max_iterations} iterations.\")\n",
    "    return x_n\n",
    "\n",
    "# Initial guess\n",
    "x0 = 0.05\n",
    "\n",
    "newtons_method(x0)\n"
   ]
  }
 ],
 "metadata": {
  "language_info": {
   "name": "python"
  }
 },
 "nbformat": 4,
 "nbformat_minor": 2
}
