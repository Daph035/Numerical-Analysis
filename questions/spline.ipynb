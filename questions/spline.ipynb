{
 "cells": [
  {
   "cell_type": "code",
   "execution_count": null,
   "metadata": {},
   "outputs": [],
   "source": [
    "import numpy as np\n",
    "import scipy.interpolate as spi\n",
    "import matplotlib.pyplot as plt\n",
    "\n",
    "# Generate some data points\n",
    "x_data = np.linspace(0, 10, 10)\n",
    "y_data = np.sin(x_data)\n",
    "\n",
    "# Create a spline interpolation\n",
    "spline = spi.InterpolatedUnivariateSpline(x_data, y_data)\n",
    "\n",
    "# Generate new x values and interpolate the y values\n",
    "x_new = np.linspace(0, 10, 100)\n",
    "y_new = spline(x_new)\n",
    "\n",
    "# Plot the data points and the interpolated curve\n",
    "plt.scatter(x_data, y_data, label='Data')\n",
    "plt.plot(x_new, y_new, label='Spline Interpolation', color='red')\n",
    "plt.legend()\n",
    "plt.show()\n"
   ]
  }
 ],
 "metadata": {
  "language_info": {
   "name": "python"
  }
 },
 "nbformat": 4,
 "nbformat_minor": 2
}
