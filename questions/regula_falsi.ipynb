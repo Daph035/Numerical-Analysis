{
 "cells": [
  {
   "cell_type": "code",
   "execution_count": 1,
   "metadata": {},
   "outputs": [
    {
     "name": "stdout",
     "output_type": "stream",
     "text": [
      "Iteration 1: x = 1.6666666666666665, f(x) = -0.8888888888888893\n",
      "Iteration 2: x = 1.909090909090909, f(x) = -0.2644628099173556\n",
      "Iteration 3: x = 1.9767441860465116, f(x) = -0.06922660897782595\n",
      "Approximate root after 3 iterations is x = 1.9767441860465116\n"
     ]
    },
    {
     "data": {
      "text/plain": [
       "1.9767441860465116"
      ]
     },
     "execution_count": 1,
     "metadata": {},
     "output_type": "execute_result"
    }
   ],
   "source": [
    "def func(x):\n",
    "    return x**2 - x - 2\n",
    "\n",
    "def regula_falsi(a, b, iterations, tol=1e-6):\n",
    "    if func(a) * func(b) >= 0:\n",
    "        print(\"Invalid initial guesses.\")\n",
    "        return None\n",
    "\n",
    "    for i in range(iterations):\n",
    "        # Calculate the point of intersection with the x-axis\n",
    "        x = a - (func(a) * (b - a)) / (func(b) - func(a))\n",
    "        print(f\"Iteration {i+1}: x = {x}, f(x) = {func(x)}\")\n",
    "\n",
    "        # Check for convergence\n",
    "        if abs(func(x)) < tol:\n",
    "            print(f\"Root found at x = {x} after {i+1} iterations\")\n",
    "            return x\n",
    "\n",
    "        # Update the interval\n",
    "        if func(a) * func(x) < 0:\n",
    "            b = x\n",
    "        else:\n",
    "            a = x\n",
    "\n",
    "    print(f\"Approximate root after {iterations} iterations is x = {x}\")\n",
    "    return x\n",
    "\n",
    "# Initial guesses\n",
    "a = 1\n",
    "b = 3\n",
    "iterations = 3\n",
    "\n",
    "regula_falsi(a, b, iterations)\n"
   ]
  }
 ],
 "metadata": {
  "kernelspec": {
   "display_name": "daph-2hKn-vvZ",
   "language": "python",
   "name": "python3"
  },
  "language_info": {
   "codemirror_mode": {
    "name": "ipython",
    "version": 3
   },
   "file_extension": ".py",
   "mimetype": "text/x-python",
   "name": "python",
   "nbconvert_exporter": "python",
   "pygments_lexer": "ipython3",
   "version": "3.12.3"
  }
 },
 "nbformat": 4,
 "nbformat_minor": 2
}
